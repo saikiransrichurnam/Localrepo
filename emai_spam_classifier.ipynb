{
  "nbformat": 4,
  "nbformat_minor": 0,
  "metadata": {
    "colab": {
      "provenance": [],
      "authorship_tag": "ABX9TyNEye871kzqYz8gjetiyCT0",
      "include_colab_link": true
    },
    "kernelspec": {
      "name": "python3",
      "display_name": "Python 3"
    },
    "language_info": {
      "name": "python"
    }
  },
  "cells": [
    {
      "cell_type": "markdown",
      "metadata": {
        "id": "view-in-github",
        "colab_type": "text"
      },
      "source": [
        "<a href=\"https://colab.research.google.com/github/saikiransrichurnam/Localrepo/blob/main/emai_spam_classifier.ipynb\" target=\"_parent\"><img src=\"https://colab.research.google.com/assets/colab-badge.svg\" alt=\"Open In Colab\"/></a>"
      ]
    },
    {
      "cell_type": "code",
      "source": [
        "!git clone https://github.com/saikiransrichurnam/email_spam_classifier.git"
      ],
      "metadata": {
        "colab": {
          "base_uri": "https://localhost:8080/"
        },
        "id": "88kc8pdieAW7",
        "outputId": "bcec4c99-e809-48dc-f4e7-cbc593cbdd79"
      },
      "execution_count": 1,
      "outputs": [
        {
          "output_type": "stream",
          "name": "stdout",
          "text": [
            "Cloning into 'email_spam_classifier'...\n",
            "remote: Enumerating objects: 3, done.\u001b[K\n",
            "remote: Counting objects: 100% (3/3), done.\u001b[K\n",
            "remote: Total 3 (delta 0), reused 0 (delta 0), pack-reused 0\u001b[K\n",
            "Receiving objects: 100% (3/3), done.\n"
          ]
        }
      ]
    },
    {
      "cell_type": "code",
      "execution_count": null,
      "metadata": {
        "id": "NfkWRHWDwlPi"
      },
      "outputs": [],
      "source": [
        "import numpy as np\n",
        "import pandas as pd\n",
        "from sklearn.model_selection import train_test_split\n",
        "from sklearn.feature_extraction.text import TfidfVectorizer\n",
        "from sklearn.linear_model import LogisticRegression\n",
        "from sklearn.metrics import accuracy_score"
      ]
    },
    {
      "cell_type": "code",
      "source": [
        "!pip install scikit-learn"
      ],
      "metadata": {
        "colab": {
          "base_uri": "https://localhost:8080/"
        },
        "id": "9vtIqkaBBhYi",
        "outputId": "205d3a71-e582-4587-8078-55df5cba6448"
      },
      "execution_count": null,
      "outputs": [
        {
          "output_type": "stream",
          "name": "stdout",
          "text": [
            "Requirement already satisfied: scikit-learn in /usr/local/lib/python3.10/dist-packages (1.2.2)\n",
            "Requirement already satisfied: numpy>=1.17.3 in /usr/local/lib/python3.10/dist-packages (from scikit-learn) (1.23.5)\n",
            "Requirement already satisfied: scipy>=1.3.2 in /usr/local/lib/python3.10/dist-packages (from scikit-learn) (1.11.4)\n",
            "Requirement already satisfied: joblib>=1.1.1 in /usr/local/lib/python3.10/dist-packages (from scikit-learn) (1.3.2)\n",
            "Requirement already satisfied: threadpoolctl>=2.0.0 in /usr/local/lib/python3.10/dist-packages (from scikit-learn) (3.2.0)\n"
          ]
        }
      ]
    },
    {
      "cell_type": "code",
      "source": [
        "df = pd.read_csv('/content/mail_data.csv')"
      ],
      "metadata": {
        "id": "oewCuj5_yRfv"
      },
      "execution_count": null,
      "outputs": []
    },
    {
      "cell_type": "code",
      "source": [
        "print(df)"
      ],
      "metadata": {
        "colab": {
          "base_uri": "https://localhost:8080/"
        },
        "id": "MJPi0MdfyfYR",
        "outputId": "5ef35ff1-ba5e-44a0-9b0f-b678dda80d56"
      },
      "execution_count": null,
      "outputs": [
        {
          "output_type": "stream",
          "name": "stdout",
          "text": [
            "     Category                                            Message\n",
            "0         ham  Go until jurong point, crazy.. Available only ...\n",
            "1         ham                      Ok lar... Joking wif u oni...\n",
            "2        spam  Free entry in 2 a wkly comp to win FA Cup fina...\n",
            "3         ham  U dun say so early hor... U c already then say...\n",
            "4         ham  Nah I don't think he goes to usf, he lives aro...\n",
            "...       ...                                                ...\n",
            "5567     spam  This is the 2nd time we have tried 2 contact u...\n",
            "5568      ham               Will ü b going to esplanade fr home?\n",
            "5569      ham  Pity, * was in mood for that. So...any other s...\n",
            "5570      ham  The guy did some bitching but I acted like i'd...\n",
            "5571      ham                         Rofl. Its true to its name\n",
            "\n",
            "[5572 rows x 2 columns]\n"
          ]
        }
      ]
    },
    {
      "cell_type": "code",
      "source": [
        "data=df.where((pd.notnull(df)),'')"
      ],
      "metadata": {
        "id": "-NMUUQNmyouB"
      },
      "execution_count": null,
      "outputs": []
    },
    {
      "cell_type": "code",
      "source": [
        "data.head(10)"
      ],
      "metadata": {
        "colab": {
          "base_uri": "https://localhost:8080/",
          "height": 536
        },
        "id": "VhJIqkY1y6zw",
        "outputId": "8d5770ca-21fe-4572-9a70-85e806c22df5"
      },
      "execution_count": null,
      "outputs": [
        {
          "output_type": "execute_result",
          "data": {
            "text/plain": [
              "  Category                                            Message\n",
              "0      ham  Go until jurong point, crazy.. Available only ...\n",
              "1      ham                      Ok lar... Joking wif u oni...\n",
              "2     spam  Free entry in 2 a wkly comp to win FA Cup fina...\n",
              "3      ham  U dun say so early hor... U c already then say...\n",
              "4      ham  Nah I don't think he goes to usf, he lives aro...\n",
              "5     spam  FreeMsg Hey there darling it's been 3 week's n...\n",
              "6      ham  Even my brother is not like to speak with me. ...\n",
              "7      ham  As per your request 'Melle Melle (Oru Minnamin...\n",
              "8     spam  WINNER!! As a valued network customer you have...\n",
              "9     spam  Had your mobile 11 months or more? U R entitle..."
            ],
            "text/html": [
              "\n",
              "  <div id=\"df-53f55875-ff23-45c5-ac65-d9fccebdece6\" class=\"colab-df-container\">\n",
              "    <div>\n",
              "<style scoped>\n",
              "    .dataframe tbody tr th:only-of-type {\n",
              "        vertical-align: middle;\n",
              "    }\n",
              "\n",
              "    .dataframe tbody tr th {\n",
              "        vertical-align: top;\n",
              "    }\n",
              "\n",
              "    .dataframe thead th {\n",
              "        text-align: right;\n",
              "    }\n",
              "</style>\n",
              "<table border=\"1\" class=\"dataframe\">\n",
              "  <thead>\n",
              "    <tr style=\"text-align: right;\">\n",
              "      <th></th>\n",
              "      <th>Category</th>\n",
              "      <th>Message</th>\n",
              "    </tr>\n",
              "  </thead>\n",
              "  <tbody>\n",
              "    <tr>\n",
              "      <th>0</th>\n",
              "      <td>ham</td>\n",
              "      <td>Go until jurong point, crazy.. Available only ...</td>\n",
              "    </tr>\n",
              "    <tr>\n",
              "      <th>1</th>\n",
              "      <td>ham</td>\n",
              "      <td>Ok lar... Joking wif u oni...</td>\n",
              "    </tr>\n",
              "    <tr>\n",
              "      <th>2</th>\n",
              "      <td>spam</td>\n",
              "      <td>Free entry in 2 a wkly comp to win FA Cup fina...</td>\n",
              "    </tr>\n",
              "    <tr>\n",
              "      <th>3</th>\n",
              "      <td>ham</td>\n",
              "      <td>U dun say so early hor... U c already then say...</td>\n",
              "    </tr>\n",
              "    <tr>\n",
              "      <th>4</th>\n",
              "      <td>ham</td>\n",
              "      <td>Nah I don't think he goes to usf, he lives aro...</td>\n",
              "    </tr>\n",
              "    <tr>\n",
              "      <th>5</th>\n",
              "      <td>spam</td>\n",
              "      <td>FreeMsg Hey there darling it's been 3 week's n...</td>\n",
              "    </tr>\n",
              "    <tr>\n",
              "      <th>6</th>\n",
              "      <td>ham</td>\n",
              "      <td>Even my brother is not like to speak with me. ...</td>\n",
              "    </tr>\n",
              "    <tr>\n",
              "      <th>7</th>\n",
              "      <td>ham</td>\n",
              "      <td>As per your request 'Melle Melle (Oru Minnamin...</td>\n",
              "    </tr>\n",
              "    <tr>\n",
              "      <th>8</th>\n",
              "      <td>spam</td>\n",
              "      <td>WINNER!! As a valued network customer you have...</td>\n",
              "    </tr>\n",
              "    <tr>\n",
              "      <th>9</th>\n",
              "      <td>spam</td>\n",
              "      <td>Had your mobile 11 months or more? U R entitle...</td>\n",
              "    </tr>\n",
              "  </tbody>\n",
              "</table>\n",
              "</div>\n",
              "    <div class=\"colab-df-buttons\">\n",
              "\n",
              "  <div class=\"colab-df-container\">\n",
              "    <button class=\"colab-df-convert\" onclick=\"convertToInteractive('df-53f55875-ff23-45c5-ac65-d9fccebdece6')\"\n",
              "            title=\"Convert this dataframe to an interactive table.\"\n",
              "            style=\"display:none;\">\n",
              "\n",
              "  <svg xmlns=\"http://www.w3.org/2000/svg\" height=\"24px\" viewBox=\"0 -960 960 960\">\n",
              "    <path d=\"M120-120v-720h720v720H120Zm60-500h600v-160H180v160Zm220 220h160v-160H400v160Zm0 220h160v-160H400v160ZM180-400h160v-160H180v160Zm440 0h160v-160H620v160ZM180-180h160v-160H180v160Zm440 0h160v-160H620v160Z\"/>\n",
              "  </svg>\n",
              "    </button>\n",
              "\n",
              "  <style>\n",
              "    .colab-df-container {\n",
              "      display:flex;\n",
              "      gap: 12px;\n",
              "    }\n",
              "\n",
              "    .colab-df-convert {\n",
              "      background-color: #E8F0FE;\n",
              "      border: none;\n",
              "      border-radius: 50%;\n",
              "      cursor: pointer;\n",
              "      display: none;\n",
              "      fill: #1967D2;\n",
              "      height: 32px;\n",
              "      padding: 0 0 0 0;\n",
              "      width: 32px;\n",
              "    }\n",
              "\n",
              "    .colab-df-convert:hover {\n",
              "      background-color: #E2EBFA;\n",
              "      box-shadow: 0px 1px 2px rgba(60, 64, 67, 0.3), 0px 1px 3px 1px rgba(60, 64, 67, 0.15);\n",
              "      fill: #174EA6;\n",
              "    }\n",
              "\n",
              "    .colab-df-buttons div {\n",
              "      margin-bottom: 4px;\n",
              "    }\n",
              "\n",
              "    [theme=dark] .colab-df-convert {\n",
              "      background-color: #3B4455;\n",
              "      fill: #D2E3FC;\n",
              "    }\n",
              "\n",
              "    [theme=dark] .colab-df-convert:hover {\n",
              "      background-color: #434B5C;\n",
              "      box-shadow: 0px 1px 3px 1px rgba(0, 0, 0, 0.15);\n",
              "      filter: drop-shadow(0px 1px 2px rgba(0, 0, 0, 0.3));\n",
              "      fill: #FFFFFF;\n",
              "    }\n",
              "  </style>\n",
              "\n",
              "    <script>\n",
              "      const buttonEl =\n",
              "        document.querySelector('#df-53f55875-ff23-45c5-ac65-d9fccebdece6 button.colab-df-convert');\n",
              "      buttonEl.style.display =\n",
              "        google.colab.kernel.accessAllowed ? 'block' : 'none';\n",
              "\n",
              "      async function convertToInteractive(key) {\n",
              "        const element = document.querySelector('#df-53f55875-ff23-45c5-ac65-d9fccebdece6');\n",
              "        const dataTable =\n",
              "          await google.colab.kernel.invokeFunction('convertToInteractive',\n",
              "                                                    [key], {});\n",
              "        if (!dataTable) return;\n",
              "\n",
              "        const docLinkHtml = 'Like what you see? Visit the ' +\n",
              "          '<a target=\"_blank\" href=https://colab.research.google.com/notebooks/data_table.ipynb>data table notebook</a>'\n",
              "          + ' to learn more about interactive tables.';\n",
              "        element.innerHTML = '';\n",
              "        dataTable['output_type'] = 'display_data';\n",
              "        await google.colab.output.renderOutput(dataTable, element);\n",
              "        const docLink = document.createElement('div');\n",
              "        docLink.innerHTML = docLinkHtml;\n",
              "        element.appendChild(docLink);\n",
              "      }\n",
              "    </script>\n",
              "  </div>\n",
              "\n",
              "\n",
              "<div id=\"df-54b4747b-178b-442e-987d-0822ed995cf9\">\n",
              "  <button class=\"colab-df-quickchart\" onclick=\"quickchart('df-54b4747b-178b-442e-987d-0822ed995cf9')\"\n",
              "            title=\"Suggest charts\"\n",
              "            style=\"display:none;\">\n",
              "\n",
              "<svg xmlns=\"http://www.w3.org/2000/svg\" height=\"24px\"viewBox=\"0 0 24 24\"\n",
              "     width=\"24px\">\n",
              "    <g>\n",
              "        <path d=\"M19 3H5c-1.1 0-2 .9-2 2v14c0 1.1.9 2 2 2h14c1.1 0 2-.9 2-2V5c0-1.1-.9-2-2-2zM9 17H7v-7h2v7zm4 0h-2V7h2v10zm4 0h-2v-4h2v4z\"/>\n",
              "    </g>\n",
              "</svg>\n",
              "  </button>\n",
              "\n",
              "<style>\n",
              "  .colab-df-quickchart {\n",
              "      --bg-color: #E8F0FE;\n",
              "      --fill-color: #1967D2;\n",
              "      --hover-bg-color: #E2EBFA;\n",
              "      --hover-fill-color: #174EA6;\n",
              "      --disabled-fill-color: #AAA;\n",
              "      --disabled-bg-color: #DDD;\n",
              "  }\n",
              "\n",
              "  [theme=dark] .colab-df-quickchart {\n",
              "      --bg-color: #3B4455;\n",
              "      --fill-color: #D2E3FC;\n",
              "      --hover-bg-color: #434B5C;\n",
              "      --hover-fill-color: #FFFFFF;\n",
              "      --disabled-bg-color: #3B4455;\n",
              "      --disabled-fill-color: #666;\n",
              "  }\n",
              "\n",
              "  .colab-df-quickchart {\n",
              "    background-color: var(--bg-color);\n",
              "    border: none;\n",
              "    border-radius: 50%;\n",
              "    cursor: pointer;\n",
              "    display: none;\n",
              "    fill: var(--fill-color);\n",
              "    height: 32px;\n",
              "    padding: 0;\n",
              "    width: 32px;\n",
              "  }\n",
              "\n",
              "  .colab-df-quickchart:hover {\n",
              "    background-color: var(--hover-bg-color);\n",
              "    box-shadow: 0 1px 2px rgba(60, 64, 67, 0.3), 0 1px 3px 1px rgba(60, 64, 67, 0.15);\n",
              "    fill: var(--button-hover-fill-color);\n",
              "  }\n",
              "\n",
              "  .colab-df-quickchart-complete:disabled,\n",
              "  .colab-df-quickchart-complete:disabled:hover {\n",
              "    background-color: var(--disabled-bg-color);\n",
              "    fill: var(--disabled-fill-color);\n",
              "    box-shadow: none;\n",
              "  }\n",
              "\n",
              "  .colab-df-spinner {\n",
              "    border: 2px solid var(--fill-color);\n",
              "    border-color: transparent;\n",
              "    border-bottom-color: var(--fill-color);\n",
              "    animation:\n",
              "      spin 1s steps(1) infinite;\n",
              "  }\n",
              "\n",
              "  @keyframes spin {\n",
              "    0% {\n",
              "      border-color: transparent;\n",
              "      border-bottom-color: var(--fill-color);\n",
              "      border-left-color: var(--fill-color);\n",
              "    }\n",
              "    20% {\n",
              "      border-color: transparent;\n",
              "      border-left-color: var(--fill-color);\n",
              "      border-top-color: var(--fill-color);\n",
              "    }\n",
              "    30% {\n",
              "      border-color: transparent;\n",
              "      border-left-color: var(--fill-color);\n",
              "      border-top-color: var(--fill-color);\n",
              "      border-right-color: var(--fill-color);\n",
              "    }\n",
              "    40% {\n",
              "      border-color: transparent;\n",
              "      border-right-color: var(--fill-color);\n",
              "      border-top-color: var(--fill-color);\n",
              "    }\n",
              "    60% {\n",
              "      border-color: transparent;\n",
              "      border-right-color: var(--fill-color);\n",
              "    }\n",
              "    80% {\n",
              "      border-color: transparent;\n",
              "      border-right-color: var(--fill-color);\n",
              "      border-bottom-color: var(--fill-color);\n",
              "    }\n",
              "    90% {\n",
              "      border-color: transparent;\n",
              "      border-bottom-color: var(--fill-color);\n",
              "    }\n",
              "  }\n",
              "</style>\n",
              "\n",
              "  <script>\n",
              "    async function quickchart(key) {\n",
              "      const quickchartButtonEl =\n",
              "        document.querySelector('#' + key + ' button');\n",
              "      quickchartButtonEl.disabled = true;  // To prevent multiple clicks.\n",
              "      quickchartButtonEl.classList.add('colab-df-spinner');\n",
              "      try {\n",
              "        const charts = await google.colab.kernel.invokeFunction(\n",
              "            'suggestCharts', [key], {});\n",
              "      } catch (error) {\n",
              "        console.error('Error during call to suggestCharts:', error);\n",
              "      }\n",
              "      quickchartButtonEl.classList.remove('colab-df-spinner');\n",
              "      quickchartButtonEl.classList.add('colab-df-quickchart-complete');\n",
              "    }\n",
              "    (() => {\n",
              "      let quickchartButtonEl =\n",
              "        document.querySelector('#df-54b4747b-178b-442e-987d-0822ed995cf9 button');\n",
              "      quickchartButtonEl.style.display =\n",
              "        google.colab.kernel.accessAllowed ? 'block' : 'none';\n",
              "    })();\n",
              "  </script>\n",
              "</div>\n",
              "\n",
              "    </div>\n",
              "  </div>\n"
            ]
          },
          "metadata": {},
          "execution_count": 41
        },
        {
          "output_type": "display_data",
          "data": {
            "text/plain": [
              "<google.colab._quickchart_helpers.SectionTitle at 0x78c1443098d0>"
            ],
            "text/html": [
              "<h4 class=\"colab-quickchart-section-title\">Categorical distributions</h4>\n",
              "<style>\n",
              "  .colab-quickchart-section-title {\n",
              "      clear: both;\n",
              "  }\n",
              "</style>"
            ]
          },
          "metadata": {}
        },
        {
          "output_type": "display_data",
          "data": {
            "text/plain": [
              "from matplotlib import pyplot as plt\n",
              "import seaborn as sns\n",
              "_df_0.groupby('Category').size().plot(kind='barh', color=sns.palettes.mpl_palette('Dark2'))\n",
              "plt.gca().spines[['top', 'right',]].set_visible(False)"
            ],
            "text/html": [
              "      <div class=\"colab-quickchart-chart-with-code\" id=\"chart-be56da6c-886f-40b4-b39d-af6d5d584774\">\n",
              "        <img style=\"width: 180px;\" src=\"data:image/png;base64,iVBORw0KGgoAAAANSUhEUgAAAiAAAAGZCAYAAACwpIo8AAAAOXRFWHRTb2Z0d2FyZQBNYXRwbG90\n",
              "bGliIHZlcnNpb24zLjcuMSwgaHR0cHM6Ly9tYXRwbG90bGliLm9yZy/bCgiHAAAACXBIWXMAAA9h\n",
              "AAAPYQGoP6dpAAATe0lEQVR4nO3df6zWBd3/8fd1Doox+fHltwVIiGgZ8iNoDJFyjBjahhNaLAkP\n",
              "02CwRmWb5ETbWoLLYlm5AufwB45wULRljjVGQ2dEhJhCTSkOPwYi33Y8mMaJQ9f9R7vPxqz75jr3\n",
              "ud6fc108Htv1x/XhcF2vfTZ2nlzX5zqnVC6XywEAkKih6AEAwMVHgAAA6QQIAJBOgAAA6QQIAJBO\n",
              "gAAA6QQIAJBOgAAA6QQIAJCu2wbII488UvQEAKBKum2AHD58uOgJAECVdNsAAQDqlwABANIJEAAg\n",
              "nQABANIJEAAgnQABANIJEAAgnQABANIJEAAgnQABANIJEAAgnQABANIJEAAgnQABANIJEAAgnQAB\n",
              "ANIJEAAgnQABANIJEAAgnQABANIJEAAgnQABANIJEAAgnQABANIJEAAgnQABANIJEAAgnQABANIJ\n",
              "EAAgnQABANIJEAAgnQABANIJEAAgnQABANIJEAAgnQABANIJEAAgnQABANIJEAAgnQABANIJEAAg\n",
              "nQABANIJEAAgnQABANKVyuVyuegR/86i60px72R9BNS3MU+cK3oCFMJ3eAAgnQABANIJEAAgnQAB\n",
              "ANIJEAAgnQABANIJEAAgnQABANIJEAAgnQABANIJEAAgnQABANIJEAAgnQABANIJEAAgnQABANIJ\n",
              "EAAgnQABANIJEAAgnQABANIJEAAgnQABANIJEAAgnQABANIJEAAgnQABANIJEAAgnQABANIJEAAg\n",
              "nQABANIJEAAgnQABANIJEAAgnQABANIJEAAgnQABANIJEAAgnQABANIJEAAgnQABANIJEAAgXVUD\n",
              "ZPny5TFy5MgolUqxb9++aj4VAFBDqhog8+bNixdffDGuvPLKaj4NAFBjelTzwadPn17NhwcAalRV\n",
              "A+RCtbW1RVtb23nHzv2zoDEAQNV1i4tQV69eHX379j3v9of/X/QqAKBaukWA3HvvvdHa2nre7fqB\n",
              "Ra8CAKqlW7wF07Nnz+jZs+d5xxq7RRoBANVQ1W/zS5YsiWHDhsWxY8di1qxZMXr06Go+HQBQI6r6\n",
              "CsjatWur+fAAQI3yRgcAkE6AAADpBAgAkE6AAADpBAgAkE6AAADpBAgAkE6AAADpBAgAkE6AAADp\n",
              "BAgAkE6AAADpBAgAkE6AAADpBAgAkE6AAADpBAgAkE6AAADpBAgAkE6AAADpBAgAkE6AAADpBAgA\n",
              "kE6AAADpBAgAkE6AAADpBAgAkE6AAADpBAgAkE6AAADpBAgAkE6AAADpBAgAkE6AAADpBAgAkE6A\n",
              "AADpBAgAkE6AAADpBAgAkE6AAADpBAgAkK5H0QP+k/8366sxZs2aomcAAFXgFRAAIJ0AAQDSCRAA\n",
              "IJ0AAQDSCRAAIJ0AAQDSCRAAIJ0AAQDSCRAAIJ0AAQDSCRAAIJ0AAQDSCRAAIJ0AAQDSCRAAIJ0A\n",
              "AQDSCRAAIJ0AAQDSCRAAIJ0AAQDSCRAAIJ0AAQDSVRwga9eujffee68aWwCAi0TFAbJz584YNWpU\n",
              "fPWrX42DBw9WYxMAUOcqDpBnnnkmXnnllRgwYEDMmDEjZs+eHb/85S+rsQ0AqFOdugZkyJAhsXLl\n",
              "ynjyySdj//79sWDBgrj22mtj+/btXb0PAKhDPSr9C2fOnIkNGzbEo48+Gr169YqHH3445s2bFy+/\n",
              "/HLMmzcvmpubqzATAKgnFQfIyJEjY+bMmbFu3bqYPHlyx/FJkybFzJkzu3QcAFCfKgqQc+fOxbe/\n",
              "/e1YuHDhv/3zxx57rEtGAQD1raJrQBobG+N73/telaYAABeLii9CnThxYrz44ovV2AIAXCQqvgZk\n",
              "165d8cQTT8SoUaPi8ssv7zi+d+/eLh0GANSvigPk0UcfrcYOAOAiUnGAfPKTn4yIiOPHj0dExAc/\n",
              "+MGuXQQA1L2KrwH54x//GNddd13HbezYsfGnP/2pGtsAgDpVcYAsW7Ys7rvvvmhpaYmWlpa47777\n",
              "YunSpdXYBgDUqYoDpKWlJT7/+c933J8/f360tLR06SgAoL5VHCCNjY1x4MCBjvsHDhyIxsbGLh0F\n",
              "ANS3ii9CXbVqVUyfPj2uv/76iIh49dVX45lnnunyYQBA/ao4QGbNmhUHDhyI3bt3R0TElClTYuDA\n",
              "gV0+DACoXxUHSETE4MGD4zOf+UxXbwEALhIVXwPS0NAQjY2N59369+8ft9xySzQ3N1dhIgBQbyp+\n",
              "BeSb3/xmtLe3xxe/+MWIiHj88cejra0thgwZEkuWLIlt27Z1+UgAoL5UHCBbt26NPXv2dNx/4IEH\n",
              "YtKkSbFnz55Yt25dl44DAOpTxW/BvPPOO3Hq1KmO+6dOnYp33nknIiIuueSSrlsGANStil8Bufvu\n",
              "u2PcuHExe/bsiIjYtm1brFy5Mv72t7/FDTfc0OUDAYD6UyqXy+VK/9Jrr70WO3bsiIiIm266KT72\n",
              "sY91+bC777471qxZ0+WPCwAUr1Mfwx0wYECMHTs2PvWpT0V7e3v84x//iEsvvbSrtwEAdaria0A2\n",
              "b94cU6ZMiUWLFkVExP79++PWW2/t6l0AQB2rOEBWr14de/fujX79+kVExLhx4+Lw4cNdvQsAqGOd\n",
              "+mV0AwYMOO+Yt18AgEpUHCC9e/eOkydPRqlUioiI7du3R//+/bt8GABQvyq+CPWhhx6K2bNnx1/+\n",
              "8peYNm1aHDp0KJ577rlqbAMA6lTFATJ58uTYsWNHvPTSS1Eul2Pq1Kkd14MAAFyIit+CWbZsWfTt\n",
              "2zdmz54dN998c/Tr1y+WLVtWjW0AQJ2qOEB27dr1vmMvvfRSl4wBAC4OF/wWzKZNm+InP/lJHDp0\n",
              "KG677baO462trXH55ZdXZRwAUJ8uOECuvfbamDNnTuzduzfmzJnTcbxPnz4xY8aMqowDAOrTBQfI\n",
              "uHHjYty4cXHLLbfEoEGDqrkJAKhzFX8KZtCgQfHss8/Gvn374syZMx3H/eI4AOBCVXwR6vLly+Pp\n",
              "p5+OJ554IkqlUmzevDlaW1ursQ0AqFMVB8iOHTvi5z//eQwaNCi++93vxu7du+PYsWPV2AYA1KmK\n",
              "A+Syyy6LhoaGKJVKcfbs2Rg6dGgcP368GtsAgDpV8TUgvXv3jvfeey+mTZsWCxYsiKFDh0avXr2q\n",
              "sQ0AqFMX/ArI6dOno7m5OTZu3Bg9evSIhx9+OMaOHRvHjh2LLVu2VHMjAFBnLjhA7rnnnvj9738f\n",
              "Q4YMiUsvvTQ+8IEPxMqVK+P222+PBx98sJobAYA6c8EBsnv37pg7d+77jt92222xc+fOLh0FANS3\n",
              "Cw6Q9vb2//wgDRVfywoAXMQuuBzOnj0bp0+fft/x1tbWOHv2bJeOAgDq2wUHyPz58+MLX/hCtLS0\n",
              "dBxraWmJRYsWxfz586syDgCoTxccICtXrox+/frF8OHDY8KECTFhwoQYPnx49O7dO+6///5qbgQA\n",
              "6swF/xyQxsbGePLJJ+OBBx6IvXv3RkTExIkT46qrrqraOACgPlX8g8iuuuoq0QEA/J/4+AoAkE6A\n",
              "AADpBAgAkE6AAADpBAgAkE6AAADpBAgAkE6AAADpBAgAkE6AAADpBAgAkE6AAADpBAgAkE6AAADp\n",
              "BAgAkE6AAADpBAgAkE6AAADpBAgAkK5ULpfLRY/4dy6fNTn6zZ9R9AwAqCvHFj1U9ISI8AoIAFAA\n",
              "AQIApBMgAEA6AQIApBMgAEA6AQIApBMgAEA6AQIApBMgAEA6AQIApBMgAEA6AQIApBMgAEA6AQIA\n",
              "pBMgAEA6AQIApBMgAEA6AQIApBMgAEA6AQIApBMgAEA6AQIApBMgAEA6AQIApBMgAEA6AQIApBMg\n",
              "AEA6AQIApBMgAEA6AQIApBMgAEA6AQIApBMgAEA6AQIApBMgAEA6AQIApBMgAEA6AQIApBMgAEA6\n",
              "AQIApBMgAEC6qgbIG2+8EVOnTo0xY8bE5MmTY//+/dV8OgCgRlQ1QJYsWRKLFy+O119/PVasWBFN\n",
              "TU3VfDoAoEZULUDeeuut2LNnTyxYsCAiIubOnRtHjx6NgwcPVuspAYAa0aNaD3z06NG44oorokeP\n",
              "fz1FqVSKESNGxJEjR2L06NHnfW1bW1u0tbWd/wDnytWaBgAUrFtchLp69ero27fvebd/HDpR9CwA\n",
              "oEqqFiDDhw+PEydORHt7e0RElMvlOHLkSIwYMeJ9X3vvvfdGa2vrebdLP3xFtaYBAAWrWoAMHjw4\n",
              "Jk6cGBs2bIiIiC1btsSwYcPe9/ZLRETPnj2jT58+592isVStaQBAwap2DUhExNq1a6OpqSlWrVoV\n",
              "ffr0ifXr11fz6QCAGlHVALnmmmviN7/5TTWfAgCoQd3iIlQA4OIiQACAdAIEAEgnQACAdAIEAEgn\n",
              "QACAdAIEAEgnQACAdAIEAEgnQACAdAIEAEgnQACAdAIEAEgnQACAdAIEAEgnQACAdAIEAEgnQACA\n",
              "dAIEAEgnQACAdAIEAEgnQACAdAIEAEgnQACAdAIEAEgnQACAdAIEAEgnQACAdAIEAEgnQACAdAIE\n",
              "AEgnQACAdAIEAEgnQACAdAIEAEgnQACAdAIEAEgnQACAdAIEAEgnQACAdAIEAEjXo+gB/8ni626M\n",
              "NYseKnoGAFAFXgEBANIJEAAgnQABANIJEAAgnQABANIJEAAgnQABANIJEAAgnQABANIJEAAgnQAB\n",
              "ANIJEAAgnQABANIJEAAgnQABANIJEAAgnQABANIJEAAgnQABANIJEAAgnQABANIJEAAgnQABANIJ\n",
              "EAAgnQABANIJEAAgnQABANIJEAAgnQABANIJEAAgnQABANIJEAAgnQABANIJEAAgnQABANIJEAAg\n",
              "nQABANIJEAAgnQABANIJEAAgnQABANIJEAAgnQABANIJEAAgnQABANL1KHrAv9PW1hbPP/98nDt3\n",
              "LhobG4ueU1POnTsXu3fvjk984hPOXYWcu85x3jrPues8565zMs7blVdeGV/+8pf/168rlcvlclUW\n",
              "/B+cPn06+vbtG62trdGnT5+i59QU567znLvOcd46z7nrPOeuc7rTefMWDACQToAAAOkECACQrlsG\n",
              "SM+ePeMb3/hG9OzZs+gpNce56zznrnOct85z7jrPueuc7nTeuuVFqABAfeuWr4AAAPVNgAAA6QQI\n",
              "AJCu2wXIG2+8EVOnTo0xY8bE5MmTY//+/UVPqhnLly+PkSNHRqlUin379hU9p2acOXMmbr311hgz\n",
              "ZkyMGzcuZs6cGQcPHix6Vs349Kc/Hddff32MHz8+brzxxnj55ZeLnlRT1q9fH6VSKbZu3Vr0lJox\n",
              "cuTIuOaaa2L8+PExfvz42LRpU9GTakZbW1t86UtfiquvvjrGjh0bCxYsKGxLt/tR7EuWLInFixdH\n",
              "U1NTbN68OZqamuJ3v/td0bNqwrx58+Kee+6JadOmFT2l5ixevDhmz54dpVIpfvjDH8Zdd90Vv/71\n",
              "r4ueVROeffbZ6NevX0RE/OxnP4umpqZ45ZVXih1VI5qbm+Oxxx6LKVOmFD2l5mzatCnGjx9f9Iya\n",
              "8/Wvfz1KpVK8/vrrUSqV4s033yxsS7d6BeStt96KPXv2dBTZ3Llz4+jRo/43eoGmT58ew4YNK3pG\n",
              "zbnsssvi5ptvjlKpFBERU6ZMiebm5mJH1ZD/jo+IiNbW1o7zyP/sn//8Z9x1113xgx/8oFt8JJL6\n",
              "9+6778bjjz8eDz74YMe/06FDhxa2p1sFyNGjR+OKK66IHj3+9cJMqVSKESNGxJEjRwpexsXkkUce\n",
              "iTlz5hQ9o6YsXLgwhg8fHvfff388/fTTRc+pCWvWrIkbbrghPv7xjxc9pSYtXLgwxo4dG3feeWec\n",
              "OnWq6Dk14c9//nP0798/Vq1aFZMmTYobb7wxtm/fXtiebhUgULRVq1bFwYMHY/Xq1UVPqSlPPfVU\n",
              "HD16NL71rW/FihUrip7T7b322muxZcuWWLlyZdFTatLOnTvjD3/4Q+zduzcGDhwYd9xxR9GTakJ7\n",
              "e3scPnw4PvrRj8aePXvi+9//fnzuc5+LkydPFrKnWwXI8OHD48SJE9He3h4REeVyOY4cORIjRowo\n",
              "eBkXg+985zvx05/+NJ5//vno1atX0XNq0h133BE7duyIv/71r0VP6dZeeOGFaG5ujquvvjpGjhwZ\n",
              "u3btisWLF8ePfvSjoqfVhP/+nnDJJZfEV77ylXjhhRcKXlQbRowYEQ0NDXH77bdHRMSECRPiwx/+\n",
              "cLz66quF7OlWATJ48OCYOHFibNiwISIitmzZEsOGDYvRo0cXvIx6t2bNmti4cWP86le/Ou+aBv5n\n",
              "b7/9dhw/frzj/tatW2PAgAHRv3//Ald1f0uXLo0TJ05Ec3NzNDc3x5QpU2LdunWxdOnSoqd1e+++\n",
              "+268/fbbHfc3btwYEyZMKG5QDRk4cGDMmDEjtm3bFhERhw4dikOHDsVHPvKRQvZ0u0/BrF27Npqa\n",
              "mmLVqlXRp0+fWL9+fdGTasaSJUviueeeizfffDNmzZoVvXv3dgHvBTh27Fh87Wtfi1GjRsVNN90U\n",
              "Ef/6fQm//e1vC17W/bW2tsZnP/vZ+Pvf/x4NDQ0xaNCg+MUvfuFCVKrm5MmTMXfu3Dh37lyUy+UY\n",
              "NWpUPPXUU0XPqhk//vGP484774wVK1ZEQ0NDrF27Nj70oQ8VssXvggEA0nWrt2AAgIuDAAEA0gkQ\n",
              "ACCdAAEA0gkQACCdAAEA0gkQACCdAAEA0gkQACCdAAEA0gkQACDdfwHKjMQ59NicuQAAAABJRU5E\n",
              "rkJggg==\n",
              "\">\n",
              "      </div>\n",
              "      <script type=\"text/javascript\">\n",
              "        (() => {\n",
              "          const chartElement = document.getElementById(\"chart-be56da6c-886f-40b4-b39d-af6d5d584774\");\n",
              "          async function getCodeForChartHandler(event) {\n",
              "            const chartCodeResponse =  await google.colab.kernel.invokeFunction(\n",
              "                'getCodeForChart', [\"chart-be56da6c-886f-40b4-b39d-af6d5d584774\"], {});\n",
              "            const responseJson = chartCodeResponse.data['application/json'];\n",
              "            await google.colab.notebook.addCell(responseJson.code, 'code');\n",
              "          }\n",
              "          chartElement.onclick = getCodeForChartHandler;\n",
              "        })();\n",
              "      </script>\n",
              "      <style>\n",
              "        .colab-quickchart-chart-with-code  {\n",
              "            display: block;\n",
              "            float: left;\n",
              "            border: 1px solid transparent;\n",
              "        }\n",
              "\n",
              "        .colab-quickchart-chart-with-code:hover {\n",
              "            cursor: pointer;\n",
              "            border: 1px solid #aaa;\n",
              "        }\n",
              "      </style>"
            ]
          },
          "metadata": {}
        }
      ]
    },
    {
      "cell_type": "code",
      "source": [
        "data.info()"
      ],
      "metadata": {
        "colab": {
          "base_uri": "https://localhost:8080/"
        },
        "id": "NSCjtadYzCO-",
        "outputId": "51f931d3-cceb-4830-ea97-37c38ac9a72f"
      },
      "execution_count": null,
      "outputs": [
        {
          "output_type": "stream",
          "name": "stdout",
          "text": [
            "<class 'pandas.core.frame.DataFrame'>\n",
            "RangeIndex: 5572 entries, 0 to 5571\n",
            "Data columns (total 2 columns):\n",
            " #   Column    Non-Null Count  Dtype \n",
            "---  ------    --------------  ----- \n",
            " 0   Category  5572 non-null   object\n",
            " 1   Message   5572 non-null   object\n",
            "dtypes: object(2)\n",
            "memory usage: 87.2+ KB\n"
          ]
        }
      ]
    },
    {
      "cell_type": "code",
      "source": [
        "data.shape"
      ],
      "metadata": {
        "colab": {
          "base_uri": "https://localhost:8080/"
        },
        "id": "CvN6pxqLzI_C",
        "outputId": "f7ef30f2-d24e-4403-e312-475f3969828c"
      },
      "execution_count": null,
      "outputs": [
        {
          "output_type": "execute_result",
          "data": {
            "text/plain": [
              "(5572, 2)"
            ]
          },
          "metadata": {},
          "execution_count": 43
        }
      ]
    },
    {
      "cell_type": "code",
      "source": [
        "data.loc[data['Category'] == 'ham','Category'] = 0\n",
        "data.loc[data['Category'] == 'spam','Category'] = 1"
      ],
      "metadata": {
        "id": "p-9pHTdizQQm"
      },
      "execution_count": null,
      "outputs": []
    },
    {
      "cell_type": "code",
      "source": [
        "X = data['Message']\n",
        "\n",
        "Y = data['Category']"
      ],
      "metadata": {
        "id": "ITU2vgdqz28_"
      },
      "execution_count": null,
      "outputs": []
    },
    {
      "cell_type": "code",
      "source": [
        "print(X)"
      ],
      "metadata": {
        "colab": {
          "base_uri": "https://localhost:8080/"
        },
        "id": "gDjLWTJC0Fs_",
        "outputId": "d73ab970-05d9-4267-cf0e-813af6e02082"
      },
      "execution_count": null,
      "outputs": [
        {
          "output_type": "stream",
          "name": "stdout",
          "text": [
            "0       Go until jurong point, crazy.. Available only ...\n",
            "1                           Ok lar... Joking wif u oni...\n",
            "2       Free entry in 2 a wkly comp to win FA Cup fina...\n",
            "3       U dun say so early hor... U c already then say...\n",
            "4       Nah I don't think he goes to usf, he lives aro...\n",
            "                              ...                        \n",
            "5567    This is the 2nd time we have tried 2 contact u...\n",
            "5568                 Will ü b going to esplanade fr home?\n",
            "5569    Pity, * was in mood for that. So...any other s...\n",
            "5570    The guy did some bitching but I acted like i'd...\n",
            "5571                           Rofl. Its true to its name\n",
            "Name: Message, Length: 5572, dtype: object\n"
          ]
        }
      ]
    },
    {
      "cell_type": "code",
      "source": [
        "print(Y)"
      ],
      "metadata": {
        "colab": {
          "base_uri": "https://localhost:8080/"
        },
        "id": "DNcS1j7a0JaG",
        "outputId": "fccde69f-1542-44b4-8508-ef419871aa42"
      },
      "execution_count": null,
      "outputs": [
        {
          "output_type": "stream",
          "name": "stdout",
          "text": [
            "0       0\n",
            "1       0\n",
            "2       1\n",
            "3       0\n",
            "4       0\n",
            "       ..\n",
            "5567    1\n",
            "5568    0\n",
            "5569    0\n",
            "5570    0\n",
            "5571    0\n",
            "Name: Category, Length: 5572, dtype: object\n"
          ]
        }
      ]
    },
    {
      "cell_type": "code",
      "source": [
        "X_train, X_test, Y_train, Y_test = train_test_split(X,Y,test_size=0.2,random_state=3)"
      ],
      "metadata": {
        "id": "jQCkgKnL0PUK"
      },
      "execution_count": null,
      "outputs": []
    },
    {
      "cell_type": "code",
      "source": [
        "print(X.shape)\n",
        "print(X_train.shape)\n",
        "print(X_test.shape)"
      ],
      "metadata": {
        "colab": {
          "base_uri": "https://localhost:8080/"
        },
        "id": "NrbsXQjm_UV7",
        "outputId": "e5a6af8c-4219-4f80-fc0f-4a00d7ccf615"
      },
      "execution_count": null,
      "outputs": [
        {
          "output_type": "stream",
          "name": "stdout",
          "text": [
            "(5572,)\n",
            "(4457,)\n",
            "(1115,)\n"
          ]
        }
      ]
    },
    {
      "cell_type": "code",
      "source": [
        "print(Y.shape)\n",
        "print(Y_train.shape)\n",
        "print(Y_test.shape)"
      ],
      "metadata": {
        "colab": {
          "base_uri": "https://localhost:8080/"
        },
        "id": "J_C9PR2S_hq3",
        "outputId": "325aa417-969a-466a-8fc1-5348f7c22442"
      },
      "execution_count": null,
      "outputs": [
        {
          "output_type": "stream",
          "name": "stdout",
          "text": [
            "(5572,)\n",
            "(4457,)\n",
            "(1115,)\n"
          ]
        }
      ]
    },
    {
      "cell_type": "code",
      "source": [
        "feature_extraction =TfidfVectorizer(min_df = 1, stop_words = 'english', lowercase =True)\n",
        "\n",
        "X_train_features = feature_extraction.fit_transform(X_train)\n",
        "X_test_features = feature_extraction.transform( X_test)\n",
        "\n",
        "\n",
        "Y_train = Y_train.astype('int')\n",
        "Y_test =  Y_test.astype('int')"
      ],
      "metadata": {
        "id": "F4RUXFhD_rPl"
      },
      "execution_count": null,
      "outputs": []
    },
    {
      "cell_type": "code",
      "source": [
        "print(X_train)"
      ],
      "metadata": {
        "colab": {
          "base_uri": "https://localhost:8080/"
        },
        "id": "V_RONO9wCWy0",
        "outputId": "1139e32e-2f08-4ed1-b17d-db668f54209c"
      },
      "execution_count": null,
      "outputs": [
        {
          "output_type": "stream",
          "name": "stdout",
          "text": [
            "3075                  Don know. I did't msg him recently.\n",
            "1787    Do you know why god created gap between your f...\n",
            "1614                         Thnx dude. u guys out 2nite?\n",
            "4304                                      Yup i'm free...\n",
            "3266    44 7732584351, Do you want a New Nokia 3510i c...\n",
            "                              ...                        \n",
            "789     5 Free Top Polyphonic Tones call 087018728737,...\n",
            "968     What do u want when i come back?.a beautiful n...\n",
            "1667    Guess who spent all last night phasing in and ...\n",
            "3321    Eh sorry leh... I din c ur msg. Not sad alread...\n",
            "1688    Free Top ringtone -sub to weekly ringtone-get ...\n",
            "Name: Message, Length: 4457, dtype: object\n"
          ]
        }
      ]
    },
    {
      "cell_type": "code",
      "source": [
        "print(X_train_features)"
      ],
      "metadata": {
        "colab": {
          "base_uri": "https://localhost:8080/"
        },
        "id": "yB9u3uCWGTv-",
        "outputId": "713f298d-9925-4546-fdc2-aaa1591aa748"
      },
      "execution_count": null,
      "outputs": [
        {
          "output_type": "stream",
          "name": "stdout",
          "text": [
            "  (0, 5413)\t0.6198254967574347\n",
            "  (0, 4456)\t0.4168658090846482\n",
            "  (0, 2224)\t0.413103377943378\n",
            "  (0, 3811)\t0.34780165336891333\n",
            "  (0, 2329)\t0.38783870336935383\n",
            "  (1, 4080)\t0.18880584110891163\n",
            "  (1, 3185)\t0.29694482957694585\n",
            "  (1, 3325)\t0.31610586766078863\n",
            "  (1, 2957)\t0.3398297002864083\n",
            "  (1, 2746)\t0.3398297002864083\n",
            "  (1, 918)\t0.22871581159877646\n",
            "  (1, 1839)\t0.2784903590561455\n",
            "  (1, 2758)\t0.3226407885943799\n",
            "  (1, 2956)\t0.33036995955537024\n",
            "  (1, 1991)\t0.33036995955537024\n",
            "  (1, 3046)\t0.2503712792613518\n",
            "  (1, 3811)\t0.17419952275504033\n",
            "  (2, 407)\t0.509272536051008\n",
            "  (2, 3156)\t0.4107239318312698\n",
            "  (2, 2404)\t0.45287711070606745\n",
            "  (2, 6601)\t0.6056811524587518\n",
            "  (3, 2870)\t0.5864269879324768\n",
            "  (3, 7414)\t0.8100020912469564\n",
            "  (4, 50)\t0.23633754072626942\n",
            "  (4, 5497)\t0.15743785051118356\n",
            "  :\t:\n",
            "  (4454, 4602)\t0.2669765732445391\n",
            "  (4454, 3142)\t0.32014451677763156\n",
            "  (4455, 2247)\t0.37052851863170466\n",
            "  (4455, 2469)\t0.35441545511837946\n",
            "  (4455, 5646)\t0.33545678464631296\n",
            "  (4455, 6810)\t0.29731757715898277\n",
            "  (4455, 6091)\t0.23103841516927642\n",
            "  (4455, 7113)\t0.30536590342067704\n",
            "  (4455, 3872)\t0.3108911491788658\n",
            "  (4455, 4715)\t0.30714144758811196\n",
            "  (4455, 6916)\t0.19636985317119715\n",
            "  (4455, 3922)\t0.31287563163368587\n",
            "  (4455, 4456)\t0.24920025316220423\n",
            "  (4456, 141)\t0.292943737785358\n",
            "  (4456, 647)\t0.30133182431707617\n",
            "  (4456, 6311)\t0.30133182431707617\n",
            "  (4456, 5569)\t0.4619395404299172\n",
            "  (4456, 6028)\t0.21034888000987115\n",
            "  (4456, 7154)\t0.24083218452280053\n",
            "  (4456, 7150)\t0.3677554681447669\n",
            "  (4456, 6249)\t0.17573831794959716\n",
            "  (4456, 6307)\t0.2752760476857975\n",
            "  (4456, 334)\t0.2220077711654938\n",
            "  (4456, 5778)\t0.16243064490100795\n",
            "  (4456, 2870)\t0.31523196273113385\n"
          ]
        }
      ]
    },
    {
      "cell_type": "code",
      "source": [
        "model = LogisticRegression()"
      ],
      "metadata": {
        "id": "5S0FNDt0Gjvr"
      },
      "execution_count": null,
      "outputs": []
    },
    {
      "cell_type": "code",
      "source": [
        "model.fit(X_train_features, Y_train)"
      ],
      "metadata": {
        "colab": {
          "base_uri": "https://localhost:8080/",
          "height": 75
        },
        "id": "9OAzxd--Gz4P",
        "outputId": "1dfbab4f-fdfc-4f96-ddc3-083d123d57fd"
      },
      "execution_count": null,
      "outputs": [
        {
          "output_type": "execute_result",
          "data": {
            "text/plain": [
              "LogisticRegression()"
            ],
            "text/html": [
              "<style>#sk-container-id-1 {color: black;background-color: white;}#sk-container-id-1 pre{padding: 0;}#sk-container-id-1 div.sk-toggleable {background-color: white;}#sk-container-id-1 label.sk-toggleable__label {cursor: pointer;display: block;width: 100%;margin-bottom: 0;padding: 0.3em;box-sizing: border-box;text-align: center;}#sk-container-id-1 label.sk-toggleable__label-arrow:before {content: \"▸\";float: left;margin-right: 0.25em;color: #696969;}#sk-container-id-1 label.sk-toggleable__label-arrow:hover:before {color: black;}#sk-container-id-1 div.sk-estimator:hover label.sk-toggleable__label-arrow:before {color: black;}#sk-container-id-1 div.sk-toggleable__content {max-height: 0;max-width: 0;overflow: hidden;text-align: left;background-color: #f0f8ff;}#sk-container-id-1 div.sk-toggleable__content pre {margin: 0.2em;color: black;border-radius: 0.25em;background-color: #f0f8ff;}#sk-container-id-1 input.sk-toggleable__control:checked~div.sk-toggleable__content {max-height: 200px;max-width: 100%;overflow: auto;}#sk-container-id-1 input.sk-toggleable__control:checked~label.sk-toggleable__label-arrow:before {content: \"▾\";}#sk-container-id-1 div.sk-estimator input.sk-toggleable__control:checked~label.sk-toggleable__label {background-color: #d4ebff;}#sk-container-id-1 div.sk-label input.sk-toggleable__control:checked~label.sk-toggleable__label {background-color: #d4ebff;}#sk-container-id-1 input.sk-hidden--visually {border: 0;clip: rect(1px 1px 1px 1px);clip: rect(1px, 1px, 1px, 1px);height: 1px;margin: -1px;overflow: hidden;padding: 0;position: absolute;width: 1px;}#sk-container-id-1 div.sk-estimator {font-family: monospace;background-color: #f0f8ff;border: 1px dotted black;border-radius: 0.25em;box-sizing: border-box;margin-bottom: 0.5em;}#sk-container-id-1 div.sk-estimator:hover {background-color: #d4ebff;}#sk-container-id-1 div.sk-parallel-item::after {content: \"\";width: 100%;border-bottom: 1px solid gray;flex-grow: 1;}#sk-container-id-1 div.sk-label:hover label.sk-toggleable__label {background-color: #d4ebff;}#sk-container-id-1 div.sk-serial::before {content: \"\";position: absolute;border-left: 1px solid gray;box-sizing: border-box;top: 0;bottom: 0;left: 50%;z-index: 0;}#sk-container-id-1 div.sk-serial {display: flex;flex-direction: column;align-items: center;background-color: white;padding-right: 0.2em;padding-left: 0.2em;position: relative;}#sk-container-id-1 div.sk-item {position: relative;z-index: 1;}#sk-container-id-1 div.sk-parallel {display: flex;align-items: stretch;justify-content: center;background-color: white;position: relative;}#sk-container-id-1 div.sk-item::before, #sk-container-id-1 div.sk-parallel-item::before {content: \"\";position: absolute;border-left: 1px solid gray;box-sizing: border-box;top: 0;bottom: 0;left: 50%;z-index: -1;}#sk-container-id-1 div.sk-parallel-item {display: flex;flex-direction: column;z-index: 1;position: relative;background-color: white;}#sk-container-id-1 div.sk-parallel-item:first-child::after {align-self: flex-end;width: 50%;}#sk-container-id-1 div.sk-parallel-item:last-child::after {align-self: flex-start;width: 50%;}#sk-container-id-1 div.sk-parallel-item:only-child::after {width: 0;}#sk-container-id-1 div.sk-dashed-wrapped {border: 1px dashed gray;margin: 0 0.4em 0.5em 0.4em;box-sizing: border-box;padding-bottom: 0.4em;background-color: white;}#sk-container-id-1 div.sk-label label {font-family: monospace;font-weight: bold;display: inline-block;line-height: 1.2em;}#sk-container-id-1 div.sk-label-container {text-align: center;}#sk-container-id-1 div.sk-container {/* jupyter's `normalize.less` sets `[hidden] { display: none; }` but bootstrap.min.css set `[hidden] { display: none !important; }` so we also need the `!important` here to be able to override the default hidden behavior on the sphinx rendered scikit-learn.org. See: https://github.com/scikit-learn/scikit-learn/issues/21755 */display: inline-block !important;position: relative;}#sk-container-id-1 div.sk-text-repr-fallback {display: none;}</style><div id=\"sk-container-id-1\" class=\"sk-top-container\"><div class=\"sk-text-repr-fallback\"><pre>LogisticRegression()</pre><b>In a Jupyter environment, please rerun this cell to show the HTML representation or trust the notebook. <br />On GitHub, the HTML representation is unable to render, please try loading this page with nbviewer.org.</b></div><div class=\"sk-container\" hidden><div class=\"sk-item\"><div class=\"sk-estimator sk-toggleable\"><input class=\"sk-toggleable__control sk-hidden--visually\" id=\"sk-estimator-id-1\" type=\"checkbox\" checked><label for=\"sk-estimator-id-1\" class=\"sk-toggleable__label sk-toggleable__label-arrow\">LogisticRegression</label><div class=\"sk-toggleable__content\"><pre>LogisticRegression()</pre></div></div></div></div></div>"
            ]
          },
          "metadata": {},
          "execution_count": 59
        }
      ]
    },
    {
      "cell_type": "code",
      "source": [
        "prediction_on_training_data = model.predict(X_train_features)\n",
        "accuracy_on_training_data = accuracy_score(Y_train,prediction_on_training_data)"
      ],
      "metadata": {
        "id": "61xkYI_jHBlq"
      },
      "execution_count": null,
      "outputs": []
    },
    {
      "cell_type": "code",
      "source": [
        "print('Acc on training data :', accuracy_on_training_data)"
      ],
      "metadata": {
        "colab": {
          "base_uri": "https://localhost:8080/"
        },
        "id": "TAZxmMIyHocW",
        "outputId": "984a207e-a1aa-4841-f699-bef216a6149c"
      },
      "execution_count": null,
      "outputs": [
        {
          "output_type": "stream",
          "name": "stdout",
          "text": [
            "Acc on training data : 0.9670181736594121\n"
          ]
        }
      ]
    },
    {
      "cell_type": "code",
      "source": [
        "input_your_mail =[\"FreeMsg Hey there darling it's been 3 week's now and no word back! I'd like some fun you up for it still? Tb ok! XxX std chgs to send, Â£1.50 to rcv\"]\n",
        "\n",
        "input_data_features = feature_extraction.transform(input_your_mail)\n",
        "\n",
        "prediction = model.predict(input_data_features)\n",
        "\n",
        "if(prediction[0]==1):\n",
        "  print(' It is Ham mail')\n",
        "\n",
        "else:\n",
        "  print(\"It is Spam mail\")"
      ],
      "metadata": {
        "colab": {
          "base_uri": "https://localhost:8080/"
        },
        "id": "VQhl2aHOILv_",
        "outputId": "fcd565fd-cdf6-485c-e33e-d09b7c9ed94c"
      },
      "execution_count": null,
      "outputs": [
        {
          "output_type": "stream",
          "name": "stdout",
          "text": [
            "It is Spam mail\n"
          ]
        }
      ]
    }
  ]
}